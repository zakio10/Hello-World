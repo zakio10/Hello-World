{
  "nbformat": 4,
  "nbformat_minor": 0,
  "metadata": {
    "colab": {
      "name": "IMDb_binary_classification.ipynb",
      "provenance": [],
      "collapsed_sections": [],
      "authorship_tag": "ABX9TyNbs/HceBLkpqf9fwnAXijf"
    },
    "kernelspec": {
      "name": "python3",
      "display_name": "Python 3"
    },
    "accelerator": "TPU"
  },
  "cells": [
    {
      "cell_type": "markdown",
      "metadata": {
        "id": "JDe-oTZmeCwg",
        "colab_type": "text"
      },
      "source": [
        "kerasを実行するためにtensorflowのバージョンをダウングレード\n",
        "バージョン変更前にランタイムを再起動する必要がある。(ランタイム→ランタイムを再起動→[1]を実行)"
      ]
    },
    {
      "cell_type": "code",
      "metadata": {
        "id": "Prq7GW9wdb68",
        "colab_type": "code",
        "outputId": "30ee73dd-c6d6-40c9-a7f1-e7a1a5ac0947",
        "colab": {
          "base_uri": "https://localhost:8080/",
          "height": 377
        }
      },
      "source": [
        "# ライブラリの特定のバージョンへ変更する\n",
        "!pip install tensorflow==1.14"
      ],
      "execution_count": 32,
      "outputs": [
        {
          "output_type": "stream",
          "text": [
            "Requirement already satisfied: tensorflow==1.14 in /usr/local/lib/python3.6/dist-packages (1.14.0)\n",
            "Requirement already satisfied: protobuf>=3.6.1 in /usr/local/lib/python3.6/dist-packages (from tensorflow==1.14) (3.10.0)\n",
            "Requirement already satisfied: tensorboard<1.15.0,>=1.14.0 in /usr/local/lib/python3.6/dist-packages (from tensorflow==1.14) (1.14.0)\n",
            "Requirement already satisfied: grpcio>=1.8.6 in /usr/local/lib/python3.6/dist-packages (from tensorflow==1.14) (1.27.2)\n",
            "Requirement already satisfied: astor>=0.6.0 in /usr/local/lib/python3.6/dist-packages (from tensorflow==1.14) (0.8.1)\n",
            "Requirement already satisfied: keras-preprocessing>=1.0.5 in /usr/local/lib/python3.6/dist-packages (from tensorflow==1.14) (1.1.0)\n",
            "Requirement already satisfied: numpy<2.0,>=1.14.5 in /usr/local/lib/python3.6/dist-packages (from tensorflow==1.14) (1.18.2)\n",
            "Requirement already satisfied: wrapt>=1.11.1 in /usr/local/lib/python3.6/dist-packages (from tensorflow==1.14) (1.12.1)\n",
            "Requirement already satisfied: google-pasta>=0.1.6 in /usr/local/lib/python3.6/dist-packages (from tensorflow==1.14) (0.2.0)\n",
            "Requirement already satisfied: keras-applications>=1.0.6 in /usr/local/lib/python3.6/dist-packages (from tensorflow==1.14) (1.0.8)\n",
            "Requirement already satisfied: absl-py>=0.7.0 in /usr/local/lib/python3.6/dist-packages (from tensorflow==1.14) (0.9.0)\n",
            "Requirement already satisfied: six>=1.10.0 in /usr/local/lib/python3.6/dist-packages (from tensorflow==1.14) (1.12.0)\n",
            "Requirement already satisfied: termcolor>=1.1.0 in /usr/local/lib/python3.6/dist-packages (from tensorflow==1.14) (1.1.0)\n",
            "Requirement already satisfied: gast>=0.2.0 in /usr/local/lib/python3.6/dist-packages (from tensorflow==1.14) (0.3.3)\n",
            "Requirement already satisfied: wheel>=0.26 in /usr/local/lib/python3.6/dist-packages (from tensorflow==1.14) (0.34.2)\n",
            "Requirement already satisfied: tensorflow-estimator<1.15.0rc0,>=1.14.0rc0 in /usr/local/lib/python3.6/dist-packages (from tensorflow==1.14) (1.14.0)\n",
            "Requirement already satisfied: setuptools in /usr/local/lib/python3.6/dist-packages (from protobuf>=3.6.1->tensorflow==1.14) (46.0.0)\n",
            "Requirement already satisfied: markdown>=2.6.8 in /usr/local/lib/python3.6/dist-packages (from tensorboard<1.15.0,>=1.14.0->tensorflow==1.14) (3.2.1)\n",
            "Requirement already satisfied: werkzeug>=0.11.15 in /usr/local/lib/python3.6/dist-packages (from tensorboard<1.15.0,>=1.14.0->tensorflow==1.14) (1.0.0)\n",
            "Requirement already satisfied: h5py in /usr/local/lib/python3.6/dist-packages (from keras-applications>=1.0.6->tensorflow==1.14) (2.10.0)\n"
          ],
          "name": "stdout"
        }
      ]
    },
    {
      "cell_type": "code",
      "metadata": {
        "id": "eE19xk28mC0e",
        "colab_type": "code",
        "colab": {}
      },
      "source": [
        "#IMDbデータセットの読み込み(3-1)\n",
        "from keras.datasets import imdb\n",
        "\n",
        "(train_data, train_labels), (test_data, test_labels) = imdb.load_data(num_words=10000)"
      ],
      "execution_count": 0,
      "outputs": []
    },
    {
      "cell_type": "code",
      "metadata": {
        "id": "1EIbKlWmqI91",
        "colab_type": "code",
        "outputId": "322a89e2-793d-414d-c934-18cd6eb9e0b9",
        "colab": {
          "base_uri": "https://localhost:8080/",
          "height": 73
        }
      },
      "source": [
        "#IMDbの訓練データを確認する\n",
        "print(train_data[0])\n",
        "print(train_labels[0])"
      ],
      "execution_count": 34,
      "outputs": [
        {
          "output_type": "stream",
          "text": [
            "[1, 14, 22, 16, 43, 530, 973, 1622, 1385, 65, 458, 4468, 66, 3941, 4, 173, 36, 256, 5, 25, 100, 43, 838, 112, 50, 670, 2, 9, 35, 480, 284, 5, 150, 4, 172, 112, 167, 2, 336, 385, 39, 4, 172, 4536, 1111, 17, 546, 38, 13, 447, 4, 192, 50, 16, 6, 147, 2025, 19, 14, 22, 4, 1920, 4613, 469, 4, 22, 71, 87, 12, 16, 43, 530, 38, 76, 15, 13, 1247, 4, 22, 17, 515, 17, 12, 16, 626, 18, 2, 5, 62, 386, 12, 8, 316, 8, 106, 5, 4, 2223, 5244, 16, 480, 66, 3785, 33, 4, 130, 12, 16, 38, 619, 5, 25, 124, 51, 36, 135, 48, 25, 1415, 33, 6, 22, 12, 215, 28, 77, 52, 5, 14, 407, 16, 82, 2, 8, 4, 107, 117, 5952, 15, 256, 4, 2, 7, 3766, 5, 723, 36, 71, 43, 530, 476, 26, 400, 317, 46, 7, 4, 2, 1029, 13, 104, 88, 4, 381, 15, 297, 98, 32, 2071, 56, 26, 141, 6, 194, 7486, 18, 4, 226, 22, 21, 134, 476, 26, 480, 5, 144, 30, 5535, 18, 51, 36, 28, 224, 92, 25, 104, 4, 226, 65, 16, 38, 1334, 88, 12, 16, 283, 5, 16, 4472, 113, 103, 32, 15, 16, 5345, 19, 178, 32]\n",
            "1\n"
          ],
          "name": "stdout"
        }
      ]
    },
    {
      "cell_type": "code",
      "metadata": {
        "id": "j3j6ioySnREp",
        "colab_type": "code",
        "outputId": "c9d83503-45a3-44b4-cb8d-ec94269901ae",
        "colab": {
          "base_uri": "https://localhost:8080/",
          "height": 55
        }
      },
      "source": [
        "#IMDbのレビュー例を確認する\n",
        "\n",
        "#word_indexは単語を整数のインデックスにマッピングする辞書\n",
        "word_index = imdb.get_word_index()\n",
        "\n",
        "#盛衰のインデックスを単語にマッピング\n",
        "reverse_word_index = dict([(value, key) for (key, value) in word_index.items()])\n",
        "\n",
        "#レビューをデコード:インデックスのオフセットとして3が指定されているのは、\n",
        "#0,1,2がそれぞれ「パディング」、「シーケンスの開始」、「不明」の\n",
        "#インデックスとして予約されているためであることに注意\n",
        "decoded_review = ' '.join([reverse_word_index.get(i - 3, '?') for i in train_data[0]])\n",
        "\n",
        "#デコードしたレビューの内容を表示\n",
        "decoded_review"
      ],
      "execution_count": 35,
      "outputs": [
        {
          "output_type": "execute_result",
          "data": {
            "text/plain": [
              "\"? this film was just brilliant casting location scenery story direction everyone's really suited the part they played and you could just imagine being there robert ? is an amazing actor and now the same being director ? father came from the same scottish island as myself so i loved the fact there was a real connection with this film the witty remarks throughout the film were great it was just brilliant so much that i bought the film as soon as it was released for ? and would recommend it to everyone to watch and the fly fishing was amazing really cried at the end it was so sad and you know what they say if you cry at a film it must have been good and this definitely was also ? to the two little boy's that played the ? of norman and paul they were just brilliant children are often left out of the ? list i think because the stars that play them all grown up are such a big profile for the whole film but these children are amazing and should be praised for what they have done don't you think the whole story was so lovely because it was true and was someone's life after all that was shared with us all\""
            ]
          },
          "metadata": {
            "tags": []
          },
          "execution_count": 35
        }
      ]
    },
    {
      "cell_type": "code",
      "metadata": {
        "id": "8VE0kz6AlaIb",
        "colab_type": "code",
        "colab": {}
      },
      "source": [
        "#データの準備(3-2)\n",
        "import numpy as np\n",
        "\n",
        "def vectorize_sequences(sequences, dimension=10000):\n",
        "\n",
        "  #形状が(len(sequences), dimension)の行列を作成し、0で埋める\n",
        "  results = np.zeros((len(sequences), dimension))\n",
        "\n",
        "  for i, sequence in enumerate(sequences):\n",
        "    #results[i]のインデックスを1に設定\n",
        "    results[i,sequence] = 1.\n",
        "  return results\n",
        "\n",
        "#訓練データのベクトル化\n",
        "x_train = vectorize_sequences(train_data)\n",
        "#テストデータのベクトル化\n",
        "x_test = vectorize_sequences(test_data)\n",
        "\n",
        "#ラベルのベクトル化\n",
        "y_train = np.asarray(train_labels).astype('float32')\n",
        "y_test = np.asarray(test_labels).astype('float32')"
      ],
      "execution_count": 0,
      "outputs": []
    },
    {
      "cell_type": "code",
      "metadata": {
        "id": "kP2Gm87zvc6v",
        "colab_type": "code",
        "colab": {}
      },
      "source": [
        "#入力値を目的値に写像するネットワークモデルを定義(3-3)\n",
        "from keras import models\n",
        "from keras import layers\n",
        "\n",
        "model = models.Sequential()\n",
        "model.add(layers.Dense(16, activation='relu', input_shape=(10000,)))\n",
        "model.add(layers.Dense(16, activation='relu'))\n",
        "model.add(layers.Dense(1, activation='sigmoid'))"
      ],
      "execution_count": 0,
      "outputs": []
    },
    {
      "cell_type": "code",
      "metadata": {
        "id": "A7u5MB6nySu-",
        "colab_type": "code",
        "colab": {}
      },
      "source": [
        "#検証用データセットを設定(3-7)\n",
        "x_val = x_train[:10000]\n",
        "partial_x_train = x_train[10000:]\n",
        "\n",
        "y_val = y_train[:10000]\n",
        "partial_y_train = y_train[10000:]"
      ],
      "execution_count": 0,
      "outputs": []
    },
    {
      "cell_type": "code",
      "metadata": {
        "id": "MckJy2OSxfHM",
        "colab_type": "code",
        "colab": {
          "base_uri": "https://localhost:8080/",
          "height": 791
        },
        "outputId": "5f0983cd-3dec-46f9-b56e-389489d88936"
      },
      "source": [
        "#損失関数とオプティマイザを定義(3-8)\n",
        "model.compile(optimizer='rmsprop', loss='binary_crossentropy', metrics=['acc'])\n",
        "\n",
        "history = model.fit(partial_x_train, partial_y_train, epochs=20, batch_size=512, validation_data=(x_val, y_val))"
      ],
      "execution_count": 46,
      "outputs": [
        {
          "output_type": "stream",
          "text": [
            "WARNING:tensorflow:From /usr/local/lib/python3.6/dist-packages/keras/backend/tensorflow_backend.py:1033: The name tf.assign_add is deprecated. Please use tf.compat.v1.assign_add instead.\n",
            "\n",
            "Train on 15000 samples, validate on 10000 samples\n",
            "Epoch 1/20\n",
            "15000/15000 [==============================] - 5s 318us/step - loss: 0.5090 - acc: 0.7897 - val_loss: 0.3793 - val_acc: 0.8722\n",
            "Epoch 2/20\n",
            "15000/15000 [==============================] - 3s 185us/step - loss: 0.3018 - acc: 0.9032 - val_loss: 0.3039 - val_acc: 0.8858\n",
            "Epoch 3/20\n",
            "15000/15000 [==============================] - 3s 184us/step - loss: 0.2212 - acc: 0.9272 - val_loss: 0.2772 - val_acc: 0.8899\n",
            "Epoch 4/20\n",
            "15000/15000 [==============================] - 3s 183us/step - loss: 0.1780 - acc: 0.9404 - val_loss: 0.2758 - val_acc: 0.8904\n",
            "Epoch 5/20\n",
            "15000/15000 [==============================] - 3s 183us/step - loss: 0.1424 - acc: 0.9550 - val_loss: 0.3003 - val_acc: 0.8795\n",
            "Epoch 6/20\n",
            "15000/15000 [==============================] - 3s 181us/step - loss: 0.1186 - acc: 0.9649 - val_loss: 0.2922 - val_acc: 0.8858\n",
            "Epoch 7/20\n",
            "15000/15000 [==============================] - 3s 181us/step - loss: 0.1003 - acc: 0.9693 - val_loss: 0.3147 - val_acc: 0.8809\n",
            "Epoch 8/20\n",
            "15000/15000 [==============================] - 3s 184us/step - loss: 0.0832 - acc: 0.9765 - val_loss: 0.3298 - val_acc: 0.8792\n",
            "Epoch 9/20\n",
            "15000/15000 [==============================] - 3s 184us/step - loss: 0.0675 - acc: 0.9819 - val_loss: 0.3482 - val_acc: 0.8810\n",
            "Epoch 10/20\n",
            "15000/15000 [==============================] - 3s 183us/step - loss: 0.0576 - acc: 0.9849 - val_loss: 0.3776 - val_acc: 0.8808\n",
            "Epoch 11/20\n",
            "15000/15000 [==============================] - 3s 181us/step - loss: 0.0432 - acc: 0.9903 - val_loss: 0.4086 - val_acc: 0.8747\n",
            "Epoch 12/20\n",
            "15000/15000 [==============================] - 3s 183us/step - loss: 0.0365 - acc: 0.9923 - val_loss: 0.4384 - val_acc: 0.8734\n",
            "Epoch 13/20\n",
            "15000/15000 [==============================] - 3s 184us/step - loss: 0.0319 - acc: 0.9929 - val_loss: 0.4644 - val_acc: 0.8745\n",
            "Epoch 14/20\n",
            "15000/15000 [==============================] - 3s 181us/step - loss: 0.0247 - acc: 0.9957 - val_loss: 0.5071 - val_acc: 0.8657\n",
            "Epoch 15/20\n",
            "15000/15000 [==============================] - 3s 178us/step - loss: 0.0180 - acc: 0.9976 - val_loss: 0.5210 - val_acc: 0.8708\n",
            "Epoch 16/20\n",
            "15000/15000 [==============================] - 3s 177us/step - loss: 0.0155 - acc: 0.9977 - val_loss: 0.5526 - val_acc: 0.8711\n",
            "Epoch 17/20\n",
            "15000/15000 [==============================] - 3s 177us/step - loss: 0.0116 - acc: 0.9989 - val_loss: 0.5926 - val_acc: 0.8662\n",
            "Epoch 18/20\n",
            "15000/15000 [==============================] - 3s 174us/step - loss: 0.0100 - acc: 0.9983 - val_loss: 0.6205 - val_acc: 0.8692\n",
            "Epoch 19/20\n",
            "15000/15000 [==============================] - 3s 175us/step - loss: 0.0062 - acc: 0.9996 - val_loss: 0.6633 - val_acc: 0.8644\n",
            "Epoch 20/20\n",
            "15000/15000 [==============================] - 3s 176us/step - loss: 0.0063 - acc: 0.9994 - val_loss: 0.6949 - val_acc: 0.8653\n"
          ],
          "name": "stdout"
        }
      ]
    },
    {
      "cell_type": "code",
      "metadata": {
        "id": "0Gf0g1Rf1gdc",
        "colab_type": "code",
        "colab": {
          "base_uri": "https://localhost:8080/",
          "height": 35
        },
        "outputId": "551e5a4a-706a-4993-89fb-0ee41c7507ef"
      },
      "source": [
        "#Historyオブジェクトのディクショナリの内容を確認する。\n",
        "history_dict = history.history\n",
        "print(history_dict.keys())"
      ],
      "execution_count": 48,
      "outputs": [
        {
          "output_type": "stream",
          "text": [
            "dict_keys(['val_loss', 'val_acc', 'loss', 'acc'])\n"
          ],
          "name": "stdout"
        }
      ]
    },
    {
      "cell_type": "code",
      "metadata": {
        "id": "XelQUNBVA4p6",
        "colab_type": "code",
        "colab": {
          "base_uri": "https://localhost:8080/",
          "height": 295
        },
        "outputId": "d69af1dd-557d-4050-ec0c-14695831743f"
      },
      "source": [
        "#訓練データと検証データでの損失値をプロットする(3-9)\n",
        "import matplotlib.pyplot as plt\n",
        "\n",
        "history_dict = history.history\n",
        "loss_values = history_dict['loss']\n",
        "val_loss_values = history_dict['val_loss']\n",
        "\n",
        "epochs = range(1, len(loss_values) + 1)\n",
        "\n",
        "#\"bo\"は\"blue dot\"(青のドット)を意味する\n",
        "plt.plot(epochs, loss_values, 'bo', label='Training loss')\n",
        "#\"b\"は\"solid blue line\"(青の実線)を意味する\n",
        "plt.plot(epochs, val_loss_values, 'b', label='Validation loss')\n",
        "plt.title('Training and validation loss')\n",
        "plt.xlabel('Epochs')\n",
        "plt.ylabel('Loss')\n",
        "plt.legend()\n",
        "plt.show()"
      ],
      "execution_count": 54,
      "outputs": [
        {
          "output_type": "display_data",
          "data": {
            "image/png": "[encoded data removed]",
            "text/plain": [
              "<Figure size 432x288 with 1 Axes>"
            ]
          },
          "metadata": {
            "tags": []
          }
        }
      ]
    },
    {
      "cell_type": "code",
      "metadata": {
        "id": "Cz3VkWxpKB5O",
        "colab_type": "code",
        "colab": {
          "base_uri": "https://localhost:8080/",
          "height": 295
        },
        "outputId": "7dbea670-3f96-40f1-ea66-209a3423ffac"
      },
      "source": [
        "#訓練データと検証データでの正答率をプロット(3-10)\n",
        "#図を消去\n",
        "plt.clf()\n",
        "\n",
        "acc = history_dict['acc']\n",
        "val_acc = history_dict['val_acc']\n",
        "\n",
        "plt.plot(epochs, acc, 'bo', label='Training acc')\n",
        "plt.plot(epochs, val_acc, 'b', label='Validation acc')\n",
        "plt.title('Training and validation accuracy')\n",
        "plt.xlabel('Epochs')\n",
        "plt.ylabel('Accuracy')\n",
        "plt.legend()\n",
        "plt.show()"
      ],
      "execution_count": 60,
      "outputs": [
        {
          "output_type": "display_data",
          "data": {
            "image/png": "[encoded data removed]",
            "text/plain": [
              "<Figure size 432x288 with 1 Axes>"
            ]
          },
          "metadata": {
            "tags": []
          }
        }
      ]
    },
    {
      "cell_type": "markdown",
      "metadata": {
        "id": "Ygi20uBvOuKm",
        "colab_type": "text"
      },
      "source": [
        "上の二つの図より途中からモデルは訓練データセットに対して最適化され、過学習であることが分かる。\n",
        "そこで、新しいモデルを4エポックで学習し、テストデータで評価する。"
      ]
    },
    {
      "cell_type": "code",
      "metadata": {
        "id": "HdR9AV8PPHlh",
        "colab_type": "code",
        "colab": {
          "base_uri": "https://localhost:8080/",
          "height": 197
        },
        "outputId": "47db2270-2f03-4076-9033-67a445685958"
      },
      "source": [
        "#モデルの学習をやり直す(3-11)\n",
        "model = models.Sequential()\n",
        "model.add(layers.Dense(16, activation='relu', input_shape=(10000,)))\n",
        "model.add(layers.Dense(16, activation='relu',))\n",
        "model.add(layers.Dense(1, activation='sigmoid'))\n",
        "\n",
        "model.compile(optimizer='rmsprop', loss='binary_crossentropy', metrics=['accuracy'])\n",
        "\n",
        "model.fit(x_train, y_train, epochs=4, batch_size=512)\n",
        "results = model.evaluate(x_test, y_test)\n",
        "\n",
        "#モデルのテストデータに対する損失値と評価値を返す\n",
        "#https://keras.io/ja/models/model/#evaluate\n",
        "print(results)"
      ],
      "execution_count": 61,
      "outputs": [
        {
          "output_type": "stream",
          "text": [
            "Epoch 1/4\n",
            "25000/25000 [==============================] - 5s 200us/step - loss: 0.4562 - acc: 0.8135\n",
            "Epoch 2/4\n",
            "25000/25000 [==============================] - 3s 131us/step - loss: 0.2623 - acc: 0.9096\n",
            "Epoch 3/4\n",
            "25000/25000 [==============================] - 3s 129us/step - loss: 0.2034 - acc: 0.9280\n",
            "Epoch 4/4\n",
            "25000/25000 [==============================] - 3s 129us/step - loss: 0.1696 - acc: 0.9402\n",
            "25000/25000 [==============================] - 5s 195us/step\n",
            "[0.31073374564170836, 0.87616]\n"
          ],
          "name": "stdout"
        }
      ]
    },
    {
      "cell_type": "code",
      "metadata": {
        "id": "KrJjW4L_UJqb",
        "colab_type": "code",
        "colab": {
          "base_uri": "https://localhost:8080/",
          "height": 161
        },
        "outputId": "94201928-ba2a-42ff-b46b-f00807733b76"
      },
      "source": [
        "#新しいデータで予測値を生成して、確認してみる\n",
        "print(model.predict(x_test))\n",
        "print(y_test)"
      ],
      "execution_count": 64,
      "outputs": [
        {
          "output_type": "stream",
          "text": [
            "[[0.14515385]\n",
            " [0.99842083]\n",
            " [0.69981635]\n",
            " ...\n",
            " [0.10633087]\n",
            " [0.04076466]\n",
            " [0.55881345]]\n",
            "[0. 1. 1. ... 0. 0. 0.]\n"
          ],
          "name": "stdout"
        }
      ]
    }
  ]
}